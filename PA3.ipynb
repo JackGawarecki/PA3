{
 "cells": [
  {
   "cell_type": "markdown",
   "id": "247e7951",
   "metadata": {},
   "source": [
    "# Programming Assignment 3\n",
    "## Jackson Gawarecki\n",
    "### Version 1\n",
    "#### Semester 1 CS150"
   ]
  },
  {
   "cell_type": "markdown",
   "id": "5a39dddc",
   "metadata": {},
   "source": [
    "## A."
   ]
  },
  {
   "cell_type": "code",
   "execution_count": 1,
   "id": "987974b1",
   "metadata": {},
   "outputs": [],
   "source": [
    "import math"
   ]
  },
  {
   "cell_type": "code",
   "execution_count": 7,
   "id": "9d12719c",
   "metadata": {},
   "outputs": [
    {
     "name": "stdout",
     "output_type": "stream",
     "text": [
      "Enter the length of side A: 12\n",
      "Enter the length of side B: 16\n",
      "Enter the length of side C: 21\n",
      "The area of the triangle is approximately 95.4512310030625\n",
      "The perimeter of the triangle is 49.0 linear units\n"
     ]
    }
   ],
   "source": [
    "def calcArea(A=1,B=1,C=1):\n",
    "    s=(A+B+C)/2\n",
    "    area=math.sqrt(s*(s-A)*(s-B)*(s-C))\n",
    "    print(\"The area of the triangle is approximately\", area)\n",
    "def calcPerimeter(A=1,B=1,C=1):\n",
    "    perimeter=A+B+C\n",
    "    print(f\"The perimeter of the triangle is {perimeter} linear units\")\n",
    "    \n",
    "A=float(input(\"Enter the length of side A: \"))\n",
    "B=float(input(\"Enter the length of side B: \"))\n",
    "C=float(input(\"Enter the length of side C: \"))\n",
    "\n",
    "calcArea(A,B,C)\n",
    "calcPerimeter(A,B,C)"
   ]
  },
  {
   "cell_type": "code",
   "execution_count": 10,
   "id": "254c87b2",
   "metadata": {},
   "outputs": [
    {
     "name": "stdout",
     "output_type": "stream",
     "text": [
      "The area of the triangle is approximately 0.4330127018922193\n",
      "The perimeter of the triangle is 3 linear units\n"
     ]
    }
   ],
   "source": [
    "calcArea()\n",
    "calcPerimeter()"
   ]
  },
  {
   "cell_type": "markdown",
   "id": "e9a953d9",
   "metadata": {},
   "source": [
    "## B."
   ]
  },
  {
   "cell_type": "code",
   "execution_count": 2,
   "id": "e21b2675",
   "metadata": {},
   "outputs": [
    {
     "name": "stdout",
     "output_type": "stream",
     "text": [
      "Enter any number between 1 to 1000: 999\n",
      "Too High! Try Again!\n",
      "Enter any number between 1 to 1000: 500\n",
      "Too Low! Try Again!\n",
      "Enter any number between 1 to 1000: 600\n",
      "Too Low! Try Again!\n",
      "Enter any number between 1 to 1000: 700\n",
      "Too Low! Try Again!\n",
      "Enter any number between 1 to 1000: 800\n",
      "Too High! Try Again!\n",
      "Enter any number between 1 to 1000: 750\n",
      "Too High! Try Again!\n",
      "Enter any number between 1 to 1000: 725\n",
      "Too High! Try Again!\n",
      "Enter any number between 1 to 1000: 710\n",
      "Too High! Try Again!\n",
      "Enter any number between 1 to 1000: 707\n",
      "Correct!\n"
     ]
    }
   ],
   "source": [
    "import random\n",
    "def evaluateGuess():\n",
    "    number=random.randint(1,1000)\n",
    "    Entered_number=None\n",
    "    while Entered_number!=number:\n",
    "        Entered_number=int(input(\"Enter any number between 1 to 1000: \"))\n",
    "        if Entered_number==number:\n",
    "            print(\"Correct!\")\n",
    "        elif Entered_number>number:\n",
    "            print(\"Too High! Try Again!\")\n",
    "        else:\n",
    "            print(\"Too Low! Try Again!\")\n",
    "            \n",
    "evaluateGuess()"
   ]
  },
  {
   "cell_type": "markdown",
   "id": "fb0e15fc",
   "metadata": {},
   "source": [
    "## C."
   ]
  },
  {
   "cell_type": "code",
   "execution_count": 8,
   "id": "97c45e76",
   "metadata": {},
   "outputs": [
    {
     "name": "stdout",
     "output_type": "stream",
     "text": [
      "The mean temperature for the past 3 days is 31.67 degrees F.\n"
     ]
    }
   ],
   "source": [
    "def meanTemp(*temps):\n",
    "    mean=sum(temps)/len(temps)\n",
    "    print(f\"The mean temperature for the past %d days is %.2f degrees F.\" %(len(temps),mean))\n",
    "meanTemp(29,32,34)"
   ]
  }
 ],
 "metadata": {
  "kernelspec": {
   "display_name": "Python 3",
   "language": "python",
   "name": "python3"
  },
  "language_info": {
   "codemirror_mode": {
    "name": "ipython",
    "version": 3
   },
   "file_extension": ".py",
   "mimetype": "text/x-python",
   "name": "python",
   "nbconvert_exporter": "python",
   "pygments_lexer": "ipython3",
   "version": "3.8.8"
  }
 },
 "nbformat": 4,
 "nbformat_minor": 5
}
